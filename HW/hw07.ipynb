{
  "nbformat": 4,
  "nbformat_minor": 0,
  "metadata": {
    "colab": {
      "name": "hw07.ipynb",
      "provenance": []
    },
    "kernelspec": {
      "name": "python3",
      "display_name": "Python 3"
    },
    "language_info": {
      "name": "python"
    }
  },
  "cells": [
    {
      "cell_type": "code",
      "execution_count": 80,
      "metadata": {
        "id": "QsTL32iwm4b5"
      },
      "outputs": [],
      "source": [
        "import matplotlib.pyplot as plt\n",
        "import numpy as np\n",
        "import scipy.spatial as spa"
      ]
    },
    {
      "cell_type": "code",
      "source": [
        "np.random.seed(421)"
      ],
      "metadata": {
        "id": "gCvZLThjnCGo"
      },
      "execution_count": 81,
      "outputs": []
    },
    {
      "cell_type": "code",
      "source": [
        "initial_dataset = np.genfromtxt(\"hw07_data_set.csv\", delimiter = \",\")\n",
        "initial_centroids = np.genfromtxt(\"hw07_initial_centroids.csv\", delimiter = \",\")"
      ],
      "metadata": {
        "id": "1e8k1Pwor7an"
      },
      "execution_count": 82,
      "outputs": []
    },
    {
      "cell_type": "code",
      "source": [
        "np.random.seed(421)"
      ],
      "metadata": {
        "id": "xYBVs3gNrrzV"
      },
      "execution_count": 83,
      "outputs": []
    },
    {
      "cell_type": "code",
      "source": [
        "exponent_func = np.vectorize(lambda x, std: np.exp((-1.0*x)/(2 * std)))\n",
        "\n",
        "# Performs the E step give a list of x values, a list of means and a matrix of estimated values \n",
        "def E_step(x_list, mean_list, e_matrix):\n",
        "\n",
        "\tstd_list = get_cov(x_list, mean_list, e_matrix)\n",
        "\testimated = list()\n",
        "\tfor i,std in enumerate(std_list):\n",
        "\t\testimated.append(exponent_func(np.square(x_list - mean_list[i]), std))\n",
        "\n",
        "\testimated = np.array(estimated).transpose()\n",
        "\tfor i, n in enumerate(estimated):\n",
        "\t\testimated[i] /= n.sum()\n",
        "\treturn estimated\n",
        "\n",
        "def M_step(x_list, e_matrix):\n",
        "\tnumerator = np.dot(x_list, e_matrix)\n",
        "\tdenominator = e_matrix.sum(axis=0)\n",
        "\treturn np.divide(numerator, denominator)\n",
        "\n",
        "# Compute the standard deviation\n",
        "def get_cov(x_list, mean_list, e_matrix):\n",
        "  x_vector = x_list[np.newaxis].transpose()\n",
        "  temp = mean_list - x_vector\n",
        "  var = np.matmul(np.transpose(temp), temp) * e_matrix / x_vector.shape[0]\n",
        "  return np.sqrt(var.sum(axis=0)/e_matrix.sum(axis=0))\n",
        "\n",
        "# Computes theta\n",
        "def get_theta(e_matrix):\n",
        "\treturn e_matrix.sum(axis=0) / len(e_matrix)\n",
        "\n",
        "# Performs E-M for a number of steps\n",
        "def simulate_E_M(x_list, e_matrix ,steps):\n",
        "  m_matrix = list()\n",
        "  for i in range(steps):\n",
        "    mean_list = M_step(x_list, e_matrix)\n",
        "    m_matrix.append(mean_list)\n",
        "    e_matrix = E_step(x_list, mean_list, e_matrix)\n",
        "    return np.array(m_matrix).transpose()"
      ],
      "metadata": {
        "id": "oCP-ki07nN_6"
      },
      "execution_count": 121,
      "outputs": []
    },
    {
      "cell_type": "code",
      "source": [
        "x_list = initial_dataset[:,0]\n",
        "e_matrix = initial_dataset[:,1:]\n",
        "iteration = 1\n",
        "\n",
        "while True:\n",
        "  if iteration == 100:\n",
        "    break\n",
        "  else:\n",
        "      mean_matrix = simulate_E_M(x_list, e_matrix, 5)\n",
        "      iteration += 1"
      ],
      "metadata": {
        "id": "LBU1PM9O3Lr3"
      },
      "execution_count": 124,
      "outputs": []
    },
    {
      "cell_type": "code",
      "source": [
        "print(iteration)\n",
        "print(mean_matrix.shape)"
      ],
      "metadata": {
        "colab": {
          "base_uri": "https://localhost:8080/"
        },
        "id": "ZtrQ_3807QWb",
        "outputId": "6e242696-6969-45d7-94c7-bb9a01d34bd1"
      },
      "execution_count": 123,
      "outputs": [
        {
          "output_type": "stream",
          "name": "stdout",
          "text": [
            "100\n",
            "(1, 1)\n"
          ]
        }
      ]
    }
  ]
}